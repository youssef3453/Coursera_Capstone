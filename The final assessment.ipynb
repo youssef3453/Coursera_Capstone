{
 "cells": [
  {
   "cell_type": "code",
   "execution_count": null,
   "metadata": {},
   "outputs": [],
   "source": []
  },
  {
   "cell_type": "markdown",
   "metadata": {},
   "source": [
    " <span style=\"color:blue; font-size:2em\">1- A description of the problem and a discussion of the background</span>."
   ]
  },
  {
   "cell_type": "markdown",
   "metadata": {},
   "source": [
    " <span style=\"color:blue;font-size:1.3em\">john is a business man who wants either to build Cafés or Restaurants in Obour city in Cairo. \n",
    "he has to choose between 2 districts (the2nd district or the 5th one) so he asked me to give him some data helps him take his decision </span>."
   ]
  },
  {
   "cell_type": "markdown",
   "metadata": {},
   "source": [
    " <span style=\"color:blue; font-size:2em\">2- A description of the data and how it will be used to solve the problem.</span>."
   ]
  },
  {
   "cell_type": "markdown",
   "metadata": {},
   "source": [
    "<span style=\"color:blue;font-size:1.3em\">the data contains food and drinking places categories for both districts for example<ul><li>Italian Restaurants<li>Cafés<li>seafood Restaurnats </ul> the data contains how much likes each category in each district has</span>"
   ]
  },
  {
   "cell_type": "markdown",
   "metadata": {},
   "source": [
    " <span style=\"color:blue; font-size:2em\">3- Methodology section which represents the main component of the report where you discuss and describe any exploratory data analysis that you did</span>"
   ]
  },
  {
   "cell_type": "markdown",
   "metadata": {},
   "source": [
    " <span style=\"color:blue;font-size:1.3em\">i visualized results in the form of bar charts you can see the results in draw section</span>"
   ]
  },
  {
   "cell_type": "markdown",
   "metadata": {},
   "source": [
    "## comparison between 2 districts in Obour city in Cairo regarding food and drinkig places (note: the forsquare data is poor so there might be unrealistic results)"
   ]
  },
  {
   "cell_type": "markdown",
   "metadata": {},
   "source": [
    "<h2>You can just head to the draw section for quick evaluation or feel free to go through each line. i've provided beatiful comments;)</h2>"
   ]
  },
  {
   "cell_type": "markdown",
   "metadata": {},
   "source": [
    "<h4>1- importing necessary tools</h4>"
   ]
  },
  {
   "cell_type": "code",
   "execution_count": 36,
   "metadata": {},
   "outputs": [],
   "source": [
    "import requests\n",
    "import pandas as pd\n",
    "import numpy as np\n",
    "import folium"
   ]
  },
  {
   "cell_type": "code",
   "execution_count": 37,
   "metadata": {},
   "outputs": [],
   "source": [
    "%matplotlib inline \n",
    "import matplotlib as mpl\n",
    "import matplotlib.pyplot as plt"
   ]
  },
  {
   "cell_type": "code",
   "execution_count": 38,
   "metadata": {},
   "outputs": [],
   "source": [
    "from geopy.geocoders import Nominatim"
   ]
  },
  {
   "cell_type": "markdown",
   "metadata": {},
   "source": [
    "<h4>2-Making necessary functions</h4>"
   ]
  },
  {
   "cell_type": "code",
   "execution_count": 39,
   "metadata": {},
   "outputs": [],
   "source": [
    "#check for food-related categories if flase return none\n",
    "def str_exist(whole, sub1, sub2, sub3):\n",
    "    if whole == None:\n",
    "        return None\n",
    "    if ((sub1 in whole) or (sub2 in whole) or (sub3 in whole)):\n",
    "        return whole\n",
    "    else:\n",
    "        return None"
   ]
  },
  {
   "cell_type": "markdown",
   "metadata": {},
   "source": [
    "<h4>The following function will take directly the respond of the foursquare API json file and return preprocessed data frame</h4>"
   ]
  },
  {
   "cell_type": "code",
   "execution_count": 114,
   "metadata": {},
   "outputs": [],
   "source": [
    "def wrangle_data(jsonresult):   \n",
    "    #get venues\n",
    "    venues = jsonresult['response']['venues']\n",
    "    #turn json to df\n",
    "    venues_df = pd.io.json.json_normalize(venues)\n",
    "    #filter columns\n",
    "    venues_df = venues_df[[\"name\", \"location.lat\", \"location.lng\", \"categories\", \"id\"]]\n",
    "    #get category name for each venue\n",
    "    #x >> category list of each venue\n",
    "    venues_df['categories'] = venues_df['categories'].apply(lambda x : x[0][\"name\"] if (len(x) !=0 ) else None)\n",
    "    #keep all food related cates and turn None for non-food-cates (cates = categories)\n",
    "    venues_df['categories'] = venues_df['categories'].apply(str_exist,                                                                  \n",
    "                                                            sub1=\"Restaurant\",\n",
    "                                                            sub2=\"Café\",\n",
    "                                                            sub3=\"Cafeteria\")\n",
    "    #drop None category venues\n",
    "    venues_df.dropna(inplace=True)\n",
    "    #reindex the df\n",
    "    venues_df.index = list(range(len(venues_df.index)))\n",
    "    #filter columns\n",
    "    venues_df.drop([\"name\",\"location.lat\",\"location.lng\"], axis=1, inplace=True)\n",
    "    \n",
    "    return venues_df"
   ]
  },
  {
   "cell_type": "markdown",
   "metadata": {},
   "source": [
    "<h4>adding likes column to venues df</h4>"
   ]
  },
  {
   "cell_type": "code",
   "execution_count": 144,
   "metadata": {},
   "outputs": [],
   "source": [
    "#add likes column\n",
    "def add_likes(venues_df, likes_list):    \n",
    "    #inseter likes columns\n",
    "    venues_df.insert(len(venues_df.columns), \"likes\", likes_list, True)\n",
    "    #drop columns with 0 likes\n",
    "    df_likes = venues_df[venues_df['likes'] != 0]\n",
    "    #drop id column\n",
    "    df_likes.drop(['id'], axis=1, inplace=True)\n",
    "    df_likes.index = list(range(len(df_likes.index)))\n",
    "    return df_likes"
   ]
  },
  {
   "cell_type": "code",
   "execution_count": 83,
   "metadata": {},
   "outputs": [],
   "source": [
    "client_id = \"TJLFDW5NONEAYZ2STSVV2IWCPQYRXLP0WG2Z02WU3CGX0W0E\"\n",
    "client_secret = \"HHJAJ0OCPCAWEG2D4Q2FMMEGD0JVC3CRAK5FUEPTKMOH2YCS\""
   ]
  },
  {
   "cell_type": "markdown",
   "metadata": {},
   "source": [
    "<h4>Second district,Obour City , Cairo info</h4>"
   ]
  },
  {
   "cell_type": "code",
   "execution_count": 84,
   "metadata": {},
   "outputs": [],
   "source": [
    "lat_sec_dis, lng_sec_dis = 30.249424, 31.479371\n",
    "ll_sec_dis = (lat_sec_dis, lng_sec_dis)\n",
    "radius = 5000 \n",
    "limit = 5000\n",
    "version = '20200724'\n",
    "\n",
    "url_sec_dis_venues=\"https://api.foursquare.com/v2/venues/search?&client_id={}&client_secret={}&v={}&ll={},{}&radius={}&limit={}\".format(\n",
    "    client_id,\n",
    "    client_secret,\n",
    "    version,\n",
    "    lat_sec_dis,\n",
    "    lng_sec_dis,\n",
    "    radius,\n",
    "    limit\n",
    ")\n",
    "\n"
   ]
  },
  {
   "cell_type": "code",
   "execution_count": 85,
   "metadata": {},
   "outputs": [
    {
     "data": {
      "text/html": [
       "<div style=\"width:100%;\"><div style=\"position:relative;width:100%;height:0;padding-bottom:60%;\"><span style=\"color:#565656\">Make this Notebook Trusted to load map: File -> Trust Notebook</span><iframe src=\"about:blank\" style=\"position:absolute;width:100%;height:100%;left:0;top:0;border:none !important;\" data-html=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 onload=\"this.contentDocument.open();this.contentDocument.write(atob(this.getAttribute('data-html')));this.contentDocument.close();\" allowfullscreen webkitallowfullscreen mozallowfullscreen></iframe></div></div>"
      ],
      "text/plain": [
       "<folium.folium.Map at 0x24c4881cb38>"
      ]
     },
     "execution_count": 85,
     "metadata": {},
     "output_type": "execute_result"
    }
   ],
   "source": [
    "#show second district in Obour City Cairo\n",
    "#\n",
    "second_district_map = folium.Map(location=(ll_sec_dis), zoom_start=15)\n",
    "marker_sec_dis = folium.features.CircleMarker(ll_sec_dis, radius=5, popup=\"Second District, Obour City\")\n",
    "marker_sec_dis.add_to(second_district_map)\n",
    "second_district_map"
   ]
  },
  {
   "cell_type": "code",
   "execution_count": 86,
   "metadata": {},
   "outputs": [],
   "source": [
    "#getting second district info \n",
    "results_sec_dis = requests.get(url_sec_dis_venues).json()"
   ]
  },
  {
   "cell_type": "code",
   "execution_count": 147,
   "metadata": {},
   "outputs": [
    {
     "data": {
      "text/html": [
       "<div>\n",
       "<style scoped>\n",
       "    .dataframe tbody tr th:only-of-type {\n",
       "        vertical-align: middle;\n",
       "    }\n",
       "\n",
       "    .dataframe tbody tr th {\n",
       "        vertical-align: top;\n",
       "    }\n",
       "\n",
       "    .dataframe thead th {\n",
       "        text-align: right;\n",
       "    }\n",
       "</style>\n",
       "<table border=\"1\" class=\"dataframe\">\n",
       "  <thead>\n",
       "    <tr style=\"text-align: right;\">\n",
       "      <th></th>\n",
       "      <th>categories</th>\n",
       "      <th>id</th>\n",
       "    </tr>\n",
       "  </thead>\n",
       "  <tbody>\n",
       "    <tr>\n",
       "      <th>0</th>\n",
       "      <td>Syrian Restaurant</td>\n",
       "      <td>523dac1711d2ba03a00f19db</td>\n",
       "    </tr>\n",
       "    <tr>\n",
       "      <th>1</th>\n",
       "      <td>Café</td>\n",
       "      <td>535d3647498e0f645e7f44a9</td>\n",
       "    </tr>\n",
       "    <tr>\n",
       "      <th>2</th>\n",
       "      <td>Café</td>\n",
       "      <td>5ba92f2c4c954c002cea351e</td>\n",
       "    </tr>\n",
       "    <tr>\n",
       "      <th>3</th>\n",
       "      <td>Cafeteria</td>\n",
       "      <td>569bde1d38fa14282bddb55b</td>\n",
       "    </tr>\n",
       "    <tr>\n",
       "      <th>4</th>\n",
       "      <td>Middle Eastern Restaurant</td>\n",
       "      <td>537227b4498e57721d4e09e4</td>\n",
       "    </tr>\n",
       "  </tbody>\n",
       "</table>\n",
       "</div>"
      ],
      "text/plain": [
       "                  categories                        id\n",
       "0          Syrian Restaurant  523dac1711d2ba03a00f19db\n",
       "1                       Café  535d3647498e0f645e7f44a9\n",
       "2                       Café  5ba92f2c4c954c002cea351e\n",
       "3                  Cafeteria  569bde1d38fa14282bddb55b\n",
       "4  Middle Eastern Restaurant  537227b4498e57721d4e09e4"
      ]
     },
     "execution_count": 147,
     "metadata": {},
     "output_type": "execute_result"
    }
   ],
   "source": [
    "#data wrangling\n",
    "venues_sec_dis_df = wrangle_data(results_sec_dis)\n",
    "venues_sec_dis_df.head()"
   ]
  },
  {
   "cell_type": "code",
   "execution_count": 88,
   "metadata": {},
   "outputs": [],
   "source": [
    "ACCESS_TOKEN = 'ZFZH05SBAKUFKQOKH4YGG2TM25FO3SIWJZGPFM10L1J3DLFL'\n",
    "unlike = 0\n",
    "like = 1"
   ]
  },
  {
   "cell_type": "code",
   "execution_count": 89,
   "metadata": {},
   "outputs": [
    {
     "name": "stdout",
     "output_type": "stream",
     "text": [
      "ready to get likes\n"
     ]
    }
   ],
   "source": [
    "#check if Api properly responded\n",
    "if requests.post(url_sec_dis_venues_likes).json()['meta']['code'] == 200:\n",
    "    print(\"ready to get likes\")\n",
    "else:\n",
    "    print(\"error code is\",\n",
    "         requests.post(url_sec_dis_venues_likes).json()['meta']['code'])\n"
   ]
  },
  {
   "cell_type": "code",
   "execution_count": 90,
   "metadata": {},
   "outputs": [],
   "source": [
    "#get likes of venues based on ids\n",
    "list_likes_sec_dis =[]\n",
    "for index, ID in enumerate(venues_sec_dis_df['id']):\n",
    "    url_sec_dis_venues_likes = \"https://api.foursquare.com/v2/venues/{}/like?client_id={}&client_secret={}&oauth_token={}&set={}&v={}\".format(\n",
    "    ID,\n",
    "    client_id,\n",
    "    client_secret,\n",
    "    ACCESS_TOKEN,\n",
    "    unlike,\n",
    "    version,  \n",
    ")\n",
    "    list_likes_sec_dis.append(requests.post(url_sec_dis_venues_likes).json()['response']['likes']['count'])"
   ]
  },
  {
   "cell_type": "markdown",
   "metadata": {},
   "source": [
    "<h4>add likes column to venues df</h4>"
   ]
  },
  {
   "cell_type": "code",
   "execution_count": 148,
   "metadata": {},
   "outputs": [
    {
     "data": {
      "text/html": [
       "<div>\n",
       "<style scoped>\n",
       "    .dataframe tbody tr th:only-of-type {\n",
       "        vertical-align: middle;\n",
       "    }\n",
       "\n",
       "    .dataframe tbody tr th {\n",
       "        vertical-align: top;\n",
       "    }\n",
       "\n",
       "    .dataframe thead th {\n",
       "        text-align: right;\n",
       "    }\n",
       "</style>\n",
       "<table border=\"1\" class=\"dataframe\">\n",
       "  <thead>\n",
       "    <tr style=\"text-align: right;\">\n",
       "      <th></th>\n",
       "      <th>categories</th>\n",
       "      <th>likes</th>\n",
       "    </tr>\n",
       "  </thead>\n",
       "  <tbody>\n",
       "    <tr>\n",
       "      <th>0</th>\n",
       "      <td>Syrian Restaurant</td>\n",
       "      <td>23</td>\n",
       "    </tr>\n",
       "    <tr>\n",
       "      <th>1</th>\n",
       "      <td>Syrian Restaurant</td>\n",
       "      <td>1</td>\n",
       "    </tr>\n",
       "    <tr>\n",
       "      <th>2</th>\n",
       "      <td>Syrian Restaurant</td>\n",
       "      <td>4</td>\n",
       "    </tr>\n",
       "    <tr>\n",
       "      <th>3</th>\n",
       "      <td>Restaurant</td>\n",
       "      <td>1</td>\n",
       "    </tr>\n",
       "    <tr>\n",
       "      <th>4</th>\n",
       "      <td>Café</td>\n",
       "      <td>1</td>\n",
       "    </tr>\n",
       "    <tr>\n",
       "      <th>5</th>\n",
       "      <td>Café</td>\n",
       "      <td>1</td>\n",
       "    </tr>\n",
       "    <tr>\n",
       "      <th>6</th>\n",
       "      <td>Café</td>\n",
       "      <td>1</td>\n",
       "    </tr>\n",
       "    <tr>\n",
       "      <th>7</th>\n",
       "      <td>Kebab Restaurant</td>\n",
       "      <td>4</td>\n",
       "    </tr>\n",
       "    <tr>\n",
       "      <th>8</th>\n",
       "      <td>Café</td>\n",
       "      <td>1</td>\n",
       "    </tr>\n",
       "  </tbody>\n",
       "</table>\n",
       "</div>"
      ],
      "text/plain": [
       "          categories  likes\n",
       "0  Syrian Restaurant     23\n",
       "1  Syrian Restaurant      1\n",
       "2  Syrian Restaurant      4\n",
       "3         Restaurant      1\n",
       "4               Café      1\n",
       "5               Café      1\n",
       "6               Café      1\n",
       "7   Kebab Restaurant      4\n",
       "8               Café      1"
      ]
     },
     "execution_count": 148,
     "metadata": {},
     "output_type": "execute_result"
    }
   ],
   "source": [
    "venues_sec_dis_likes_df = add_likes(venues_sec_dis_df, list_likes_sec_dis)\n",
    "venues_sec_dis_likes_df"
   ]
  },
  {
   "cell_type": "code",
   "execution_count": 92,
   "metadata": {},
   "outputs": [
    {
     "data": {
      "text/html": [
       "<div>\n",
       "<style scoped>\n",
       "    .dataframe tbody tr th:only-of-type {\n",
       "        vertical-align: middle;\n",
       "    }\n",
       "\n",
       "    .dataframe tbody tr th {\n",
       "        vertical-align: top;\n",
       "    }\n",
       "\n",
       "    .dataframe thead th {\n",
       "        text-align: right;\n",
       "    }\n",
       "</style>\n",
       "<table border=\"1\" class=\"dataframe\">\n",
       "  <thead>\n",
       "    <tr style=\"text-align: right;\">\n",
       "      <th></th>\n",
       "      <th>categories</th>\n",
       "      <th>likes</th>\n",
       "    </tr>\n",
       "  </thead>\n",
       "  <tbody>\n",
       "    <tr>\n",
       "      <th>0</th>\n",
       "      <td>Café</td>\n",
       "      <td>4</td>\n",
       "    </tr>\n",
       "    <tr>\n",
       "      <th>1</th>\n",
       "      <td>Kebab Restaurant</td>\n",
       "      <td>4</td>\n",
       "    </tr>\n",
       "    <tr>\n",
       "      <th>2</th>\n",
       "      <td>Restaurant</td>\n",
       "      <td>1</td>\n",
       "    </tr>\n",
       "    <tr>\n",
       "      <th>3</th>\n",
       "      <td>Syrian Restaurant</td>\n",
       "      <td>28</td>\n",
       "    </tr>\n",
       "  </tbody>\n",
       "</table>\n",
       "</div>"
      ],
      "text/plain": [
       "          categories  likes\n",
       "0               Café      4\n",
       "1   Kebab Restaurant      4\n",
       "2         Restaurant      1\n",
       "3  Syrian Restaurant     28"
      ]
     },
     "execution_count": 92,
     "metadata": {},
     "output_type": "execute_result"
    }
   ],
   "source": [
    "#groub df by cates sum of likes\n",
    "venues_sec_dis_likes_df_by_sum = venues_sec_dis_likes_df.groupby(by=\"categories\").sum()\n",
    "#reset index\n",
    "venues_sec_dis_likes_df_by_sum = venues_sec_dis_likes_df_by_sum.reset_index()\n",
    "venues_sec_dis_likes_df_by_sum.head()"
   ]
  },
  {
   "cell_type": "code",
   "execution_count": 93,
   "metadata": {},
   "outputs": [
    {
     "data": {
      "text/html": [
       "<div>\n",
       "<style scoped>\n",
       "    .dataframe tbody tr th:only-of-type {\n",
       "        vertical-align: middle;\n",
       "    }\n",
       "\n",
       "    .dataframe tbody tr th {\n",
       "        vertical-align: top;\n",
       "    }\n",
       "\n",
       "    .dataframe thead th {\n",
       "        text-align: right;\n",
       "    }\n",
       "</style>\n",
       "<table border=\"1\" class=\"dataframe\">\n",
       "  <thead>\n",
       "    <tr style=\"text-align: right;\">\n",
       "      <th></th>\n",
       "      <th>categories</th>\n",
       "      <th>freq</th>\n",
       "    </tr>\n",
       "  </thead>\n",
       "  <tbody>\n",
       "    <tr>\n",
       "      <th>0</th>\n",
       "      <td>Café</td>\n",
       "      <td>4</td>\n",
       "    </tr>\n",
       "    <tr>\n",
       "      <th>1</th>\n",
       "      <td>Kebab Restaurant</td>\n",
       "      <td>1</td>\n",
       "    </tr>\n",
       "    <tr>\n",
       "      <th>2</th>\n",
       "      <td>Restaurant</td>\n",
       "      <td>1</td>\n",
       "    </tr>\n",
       "    <tr>\n",
       "      <th>3</th>\n",
       "      <td>Syrian Restaurant</td>\n",
       "      <td>3</td>\n",
       "    </tr>\n",
       "  </tbody>\n",
       "</table>\n",
       "</div>"
      ],
      "text/plain": [
       "          categories  freq\n",
       "0               Café     4\n",
       "1   Kebab Restaurant     1\n",
       "2         Restaurant     1\n",
       "3  Syrian Restaurant     3"
      ]
     },
     "execution_count": 93,
     "metadata": {},
     "output_type": "execute_result"
    }
   ],
   "source": [
    "#group df by cates count of freq\n",
    "venues_sec_dis_likes_df_by_count = venues_sec_dis_likes_df.groupby(by=\"categories\").count()\n",
    "#REset index\n",
    "venues_sec_dis_likes_df_by_count = venues_sec_dis_likes_df_by_count.reset_index()\n",
    "#rename columns\n",
    "venues_sec_dis_likes_df_by_count = venues_sec_dis_likes_df_by_count.rename(columns={\"likes\": \"freq\"})\n",
    "venues_sec_dis_likes_df_by_count"
   ]
  },
  {
   "cell_type": "markdown",
   "metadata": {},
   "source": [
    "<h1>we will apply all of the previous steps for Fifth district of Obour City too!</h1>"
   ]
  },
  {
   "cell_type": "code",
   "execution_count": 94,
   "metadata": {},
   "outputs": [
    {
     "data": {
      "text/plain": [
       "'https://api.foursquare.com/v2/venues/search?&client_id=TJLFDW5NONEAYZ2STSVV2IWCPQYRXLP0WG2Z02WU3CGX0W0E&client_secret=HHJAJ0OCPCAWEG2D4Q2FMMEGD0JVC3CRAK5FUEPTKMOH2YCS&v=20200724&ll=30.222608,31.474366&radius=5000&limit=5000'"
      ]
     },
     "execution_count": 94,
     "metadata": {},
     "output_type": "execute_result"
    }
   ],
   "source": [
    "lat_5th_dis, lng_5th_dis = 30.222608, 31.474366\n",
    "ll_5th_dis = (lat_5th_dis, lng_5th_dis)\n",
    "radius = 5000 \n",
    "limit = 5000\n",
    "version = '20200724' \n",
    "\n",
    "url_5th_dis_venues=\"https://api.foursquare.com/v2/venues/search?&client_id={}&client_secret={}&v={}&ll={},{}&radius={}&limit={}\".format(\n",
    "    client_id,\n",
    "    client_secret,\n",
    "    version,\n",
    "    lat_5th_dis,\n",
    "    lng_5th_dis,\n",
    "    radius,\n",
    "    limit\n",
    ")\n",
    "url_5th_dis_venues"
   ]
  },
  {
   "cell_type": "code",
   "execution_count": 95,
   "metadata": {},
   "outputs": [
    {
     "data": {
      "text/html": [
       "<div style=\"width:100%;\"><div style=\"position:relative;width:100%;height:0;padding-bottom:60%;\"><span style=\"color:#565656\">Make this Notebook Trusted to load map: File -> Trust Notebook</span><iframe src=\"about:blank\" style=\"position:absolute;width:100%;height:100%;left:0;top:0;border:none !important;\" data-html=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 onload=\"this.contentDocument.open();this.contentDocument.write(atob(this.getAttribute('data-html')));this.contentDocument.close();\" allowfullscreen webkitallowfullscreen mozallowfullscreen></iframe></div></div>"
      ],
      "text/plain": [
       "<folium.folium.Map at 0x24c4702e550>"
      ]
     },
     "execution_count": 95,
     "metadata": {},
     "output_type": "execute_result"
    }
   ],
   "source": [
    "#show fifth  disrtict\n",
    "#\n",
    "fifth_district_map = folium.Map(location=(ll_5th_dis), zoom_start=15)\n",
    "marker_5th_dis = folium.features.CircleMarker(ll_5th_dis, radius=5, popup=\"Fifth District, Obour City\")\n",
    "marker_5th_dis.add_to(fifth_district_map)\n",
    "fifth_district_map"
   ]
  },
  {
   "cell_type": "code",
   "execution_count": 56,
   "metadata": {},
   "outputs": [],
   "source": [
    "#request venues\n",
    "results_5th_dis = requests.get(url_5th_dis_venues).json()"
   ]
  },
  {
   "cell_type": "code",
   "execution_count": 149,
   "metadata": {},
   "outputs": [
    {
     "data": {
      "text/html": [
       "<div>\n",
       "<style scoped>\n",
       "    .dataframe tbody tr th:only-of-type {\n",
       "        vertical-align: middle;\n",
       "    }\n",
       "\n",
       "    .dataframe tbody tr th {\n",
       "        vertical-align: top;\n",
       "    }\n",
       "\n",
       "    .dataframe thead th {\n",
       "        text-align: right;\n",
       "    }\n",
       "</style>\n",
       "<table border=\"1\" class=\"dataframe\">\n",
       "  <thead>\n",
       "    <tr style=\"text-align: right;\">\n",
       "      <th></th>\n",
       "      <th>categories</th>\n",
       "      <th>id</th>\n",
       "    </tr>\n",
       "  </thead>\n",
       "  <tbody>\n",
       "    <tr>\n",
       "      <th>0</th>\n",
       "      <td>Fast Food Restaurant</td>\n",
       "      <td>4f6eeae6e4b07a4bc5cc7cad</td>\n",
       "    </tr>\n",
       "    <tr>\n",
       "      <th>1</th>\n",
       "      <td>Café</td>\n",
       "      <td>535d3647498e0f645e7f44a9</td>\n",
       "    </tr>\n",
       "    <tr>\n",
       "      <th>2</th>\n",
       "      <td>Cafeteria</td>\n",
       "      <td>569bde1d38fa14282bddb55b</td>\n",
       "    </tr>\n",
       "    <tr>\n",
       "      <th>3</th>\n",
       "      <td>Café</td>\n",
       "      <td>5ba92f2c4c954c002cea351e</td>\n",
       "    </tr>\n",
       "    <tr>\n",
       "      <th>4</th>\n",
       "      <td>Italian Restaurant</td>\n",
       "      <td>4e6c12081495f3492564a5d3</td>\n",
       "    </tr>\n",
       "  </tbody>\n",
       "</table>\n",
       "</div>"
      ],
      "text/plain": [
       "             categories                        id\n",
       "0  Fast Food Restaurant  4f6eeae6e4b07a4bc5cc7cad\n",
       "1                  Café  535d3647498e0f645e7f44a9\n",
       "2             Cafeteria  569bde1d38fa14282bddb55b\n",
       "3                  Café  5ba92f2c4c954c002cea351e\n",
       "4    Italian Restaurant  4e6c12081495f3492564a5d3"
      ]
     },
     "execution_count": 149,
     "metadata": {},
     "output_type": "execute_result"
    }
   ],
   "source": [
    "venues_5th_dis_df = wrangle_data(results_5th_dis)\n",
    "venues_5th_dis_df.head()"
   ]
  },
  {
   "cell_type": "code",
   "execution_count": 97,
   "metadata": {},
   "outputs": [],
   "source": [
    "#get venues likes\n",
    "list_likes_5th_dis =[]\n",
    "for index, ID in enumerate(venues_5th_dis_df['id']):\n",
    "    url_5th_dis_venues_likes = \"https://api.foursquare.com/v2/venues/{}/like?client_id={}&client_secret={}&oauth_token={}&set={}&v={}\".format(\n",
    "    ID,\n",
    "    client_id,\n",
    "    client_secret,\n",
    "    ACCESS_TOKEN,\n",
    "    unlike,\n",
    "    version,  \n",
    ")\n",
    "    list_likes_5th_dis.append(requests.post(url_5th_dis_venues_likes).json()['response']['likes']['count'])"
   ]
  },
  {
   "cell_type": "code",
   "execution_count": 150,
   "metadata": {},
   "outputs": [
    {
     "data": {
      "text/html": [
       "<div>\n",
       "<style scoped>\n",
       "    .dataframe tbody tr th:only-of-type {\n",
       "        vertical-align: middle;\n",
       "    }\n",
       "\n",
       "    .dataframe tbody tr th {\n",
       "        vertical-align: top;\n",
       "    }\n",
       "\n",
       "    .dataframe thead th {\n",
       "        text-align: right;\n",
       "    }\n",
       "</style>\n",
       "<table border=\"1\" class=\"dataframe\">\n",
       "  <thead>\n",
       "    <tr style=\"text-align: right;\">\n",
       "      <th></th>\n",
       "      <th>categories</th>\n",
       "      <th>likes</th>\n",
       "    </tr>\n",
       "  </thead>\n",
       "  <tbody>\n",
       "    <tr>\n",
       "      <th>0</th>\n",
       "      <td>Fast Food Restaurant</td>\n",
       "      <td>15</td>\n",
       "    </tr>\n",
       "    <tr>\n",
       "      <th>1</th>\n",
       "      <td>Italian Restaurant</td>\n",
       "      <td>1</td>\n",
       "    </tr>\n",
       "    <tr>\n",
       "      <th>2</th>\n",
       "      <td>Syrian Restaurant</td>\n",
       "      <td>1</td>\n",
       "    </tr>\n",
       "    <tr>\n",
       "      <th>3</th>\n",
       "      <td>Syrian Restaurant</td>\n",
       "      <td>23</td>\n",
       "    </tr>\n",
       "    <tr>\n",
       "      <th>4</th>\n",
       "      <td>Middle Eastern Restaurant</td>\n",
       "      <td>1</td>\n",
       "    </tr>\n",
       "    <tr>\n",
       "      <th>5</th>\n",
       "      <td>Egyptian Restaurant</td>\n",
       "      <td>2</td>\n",
       "    </tr>\n",
       "    <tr>\n",
       "      <th>6</th>\n",
       "      <td>Syrian Restaurant</td>\n",
       "      <td>4</td>\n",
       "    </tr>\n",
       "    <tr>\n",
       "      <th>7</th>\n",
       "      <td>Café</td>\n",
       "      <td>1</td>\n",
       "    </tr>\n",
       "    <tr>\n",
       "      <th>8</th>\n",
       "      <td>Restaurant</td>\n",
       "      <td>1</td>\n",
       "    </tr>\n",
       "    <tr>\n",
       "      <th>9</th>\n",
       "      <td>Café</td>\n",
       "      <td>2</td>\n",
       "    </tr>\n",
       "    <tr>\n",
       "      <th>10</th>\n",
       "      <td>Café</td>\n",
       "      <td>6</td>\n",
       "    </tr>\n",
       "    <tr>\n",
       "      <th>11</th>\n",
       "      <td>Kebab Restaurant</td>\n",
       "      <td>4</td>\n",
       "    </tr>\n",
       "    <tr>\n",
       "      <th>12</th>\n",
       "      <td>Fast Food Restaurant</td>\n",
       "      <td>3</td>\n",
       "    </tr>\n",
       "    <tr>\n",
       "      <th>13</th>\n",
       "      <td>Seafood Restaurant</td>\n",
       "      <td>1</td>\n",
       "    </tr>\n",
       "  </tbody>\n",
       "</table>\n",
       "</div>"
      ],
      "text/plain": [
       "                   categories  likes\n",
       "0        Fast Food Restaurant     15\n",
       "1          Italian Restaurant      1\n",
       "2           Syrian Restaurant      1\n",
       "3           Syrian Restaurant     23\n",
       "4   Middle Eastern Restaurant      1\n",
       "5         Egyptian Restaurant      2\n",
       "6           Syrian Restaurant      4\n",
       "7                        Café      1\n",
       "8                  Restaurant      1\n",
       "9                        Café      2\n",
       "10                       Café      6\n",
       "11           Kebab Restaurant      4\n",
       "12       Fast Food Restaurant      3\n",
       "13         Seafood Restaurant      1"
      ]
     },
     "execution_count": 150,
     "metadata": {},
     "output_type": "execute_result"
    }
   ],
   "source": [
    "venues_5th_dis_likes_df = add_likes(venues_5th_dis_df, list_likes_5th_dis)\n",
    "venues_5th_dis_likes_df"
   ]
  },
  {
   "cell_type": "code",
   "execution_count": 99,
   "metadata": {},
   "outputs": [],
   "source": [
    "#group veneus by cates sum of likes\n",
    "venues_5th_dis_likes_df_by_sum = venues_5th_dis_likes_df.groupby(by=\"categories\").sum()\n",
    "#reindex\n",
    "venues_5th_dis_likes_df_by_sum = venues_5th_dis_likes_df_by_sum.reset_index()"
   ]
  },
  {
   "cell_type": "code",
   "execution_count": 100,
   "metadata": {},
   "outputs": [
    {
     "data": {
      "text/html": [
       "<div>\n",
       "<style scoped>\n",
       "    .dataframe tbody tr th:only-of-type {\n",
       "        vertical-align: middle;\n",
       "    }\n",
       "\n",
       "    .dataframe tbody tr th {\n",
       "        vertical-align: top;\n",
       "    }\n",
       "\n",
       "    .dataframe thead th {\n",
       "        text-align: right;\n",
       "    }\n",
       "</style>\n",
       "<table border=\"1\" class=\"dataframe\">\n",
       "  <thead>\n",
       "    <tr style=\"text-align: right;\">\n",
       "      <th></th>\n",
       "      <th>categories</th>\n",
       "      <th>likes</th>\n",
       "    </tr>\n",
       "  </thead>\n",
       "  <tbody>\n",
       "    <tr>\n",
       "      <th>0</th>\n",
       "      <td>Café</td>\n",
       "      <td>9</td>\n",
       "    </tr>\n",
       "    <tr>\n",
       "      <th>1</th>\n",
       "      <td>Egyptian Restaurant</td>\n",
       "      <td>2</td>\n",
       "    </tr>\n",
       "    <tr>\n",
       "      <th>2</th>\n",
       "      <td>Fast Food Restaurant</td>\n",
       "      <td>18</td>\n",
       "    </tr>\n",
       "    <tr>\n",
       "      <th>3</th>\n",
       "      <td>Italian Restaurant</td>\n",
       "      <td>1</td>\n",
       "    </tr>\n",
       "    <tr>\n",
       "      <th>4</th>\n",
       "      <td>Kebab Restaurant</td>\n",
       "      <td>4</td>\n",
       "    </tr>\n",
       "  </tbody>\n",
       "</table>\n",
       "</div>"
      ],
      "text/plain": [
       "             categories  likes\n",
       "0                  Café      9\n",
       "1   Egyptian Restaurant      2\n",
       "2  Fast Food Restaurant     18\n",
       "3    Italian Restaurant      1\n",
       "4      Kebab Restaurant      4"
      ]
     },
     "execution_count": 100,
     "metadata": {},
     "output_type": "execute_result"
    }
   ],
   "source": [
    "venues_5th_dis_likes_df_by_sum.head()"
   ]
  },
  {
   "cell_type": "code",
   "execution_count": 101,
   "metadata": {},
   "outputs": [],
   "source": [
    "#gruop venues by cates count of freq\n",
    "venues_5th_dis_likes_df_by_count = venues_5th_dis_likes_df.groupby(by=\"categories\").count()\n",
    "#reindex\n",
    "venues_5th_dis_likes_df_by_count = venues_5th_dis_likes_df_by_count.reset_index()\n",
    "#rename columns\n",
    "venues_5th_dis_likes_df_by_count = venues_5th_dis_likes_df_by_count.rename(columns={\"likes\": \"freq\"})"
   ]
  },
  {
   "cell_type": "code",
   "execution_count": 102,
   "metadata": {},
   "outputs": [
    {
     "data": {
      "text/html": [
       "<div>\n",
       "<style scoped>\n",
       "    .dataframe tbody tr th:only-of-type {\n",
       "        vertical-align: middle;\n",
       "    }\n",
       "\n",
       "    .dataframe tbody tr th {\n",
       "        vertical-align: top;\n",
       "    }\n",
       "\n",
       "    .dataframe thead th {\n",
       "        text-align: right;\n",
       "    }\n",
       "</style>\n",
       "<table border=\"1\" class=\"dataframe\">\n",
       "  <thead>\n",
       "    <tr style=\"text-align: right;\">\n",
       "      <th></th>\n",
       "      <th>categories</th>\n",
       "      <th>freq</th>\n",
       "    </tr>\n",
       "  </thead>\n",
       "  <tbody>\n",
       "    <tr>\n",
       "      <th>0</th>\n",
       "      <td>Café</td>\n",
       "      <td>3</td>\n",
       "    </tr>\n",
       "    <tr>\n",
       "      <th>1</th>\n",
       "      <td>Egyptian Restaurant</td>\n",
       "      <td>1</td>\n",
       "    </tr>\n",
       "    <tr>\n",
       "      <th>2</th>\n",
       "      <td>Fast Food Restaurant</td>\n",
       "      <td>2</td>\n",
       "    </tr>\n",
       "    <tr>\n",
       "      <th>3</th>\n",
       "      <td>Italian Restaurant</td>\n",
       "      <td>1</td>\n",
       "    </tr>\n",
       "    <tr>\n",
       "      <th>4</th>\n",
       "      <td>Kebab Restaurant</td>\n",
       "      <td>1</td>\n",
       "    </tr>\n",
       "  </tbody>\n",
       "</table>\n",
       "</div>"
      ],
      "text/plain": [
       "             categories  freq\n",
       "0                  Café     3\n",
       "1   Egyptian Restaurant     1\n",
       "2  Fast Food Restaurant     2\n",
       "3    Italian Restaurant     1\n",
       "4      Kebab Restaurant     1"
      ]
     },
     "execution_count": 102,
     "metadata": {},
     "output_type": "execute_result"
    }
   ],
   "source": [
    "venues_5th_dis_likes_df_by_count.head()"
   ]
  },
  {
   "cell_type": "markdown",
   "metadata": {},
   "source": [
    "<h1>draw</h1>"
   ]
  },
  {
   "cell_type": "markdown",
   "metadata": {},
   "source": [
    "<h4>the goals of the graphs are</h4>:<h5><ul>\n",
    "    <li>show you how many of each food places types  are there in districts for example<ul><li>3 Cafes in 2nd district, 4 cafés in 5th district</li><li>2 seafood restaurants in 2nd district, 5 seafood restaurants in 5th district</li><li>etc....</li></ul><li>show you how many likes each type takes in each district</li></li>\n",
    "    </ul></h5>"
   ]
  },
  {
   "cell_type": "code",
   "execution_count": 103,
   "metadata": {},
   "outputs": [],
   "source": [
    "cates_nums_5th = venues_5th_dis_likes_df_by_count.set_index(\"categories\")\n",
    "cates_nums_sec = venues_sec_dis_likes_df_by_count.set_index(\"categories\")"
   ]
  },
  {
   "cell_type": "code",
   "execution_count": 104,
   "metadata": {},
   "outputs": [],
   "source": [
    "cates_nums_5th = list(cates_nums_5th[\"freq\"])\n",
    "cates_nums_sec = list(cates_nums_sec[\"freq\"])"
   ]
  },
  {
   "cell_type": "code",
   "execution_count": 105,
   "metadata": {},
   "outputs": [],
   "source": [
    "indx = np.arange(len(cates_nums_5th))"
   ]
  },
  {
   "cell_type": "code",
   "execution_count": 106,
   "metadata": {
    "scrolled": true
   },
   "outputs": [
    {
     "data": {
      "text/plain": [
       "<matplotlib.legend.Legend at 0x24c483b1978>"
      ]
     },
     "execution_count": 106,
     "metadata": {},
     "output_type": "execute_result"
    },
    {
     "data": {
      "image/png": "[encoded data removed]",
      "text/plain": [
       "<Figure size 2160x576 with 1 Axes>"
      ]
     },
     "metadata": {
      "needs_background": "light"
     },
     "output_type": "display_data"
    }
   ],
   "source": [
    "fig = plt.figure(figsize=(30,8),)\n",
    "ax2 = fig.add_subplot(111)\n",
    "barwidth=0.2\n",
    "\n",
    "plt.xticks(rotation=90, fontsize=20)\n",
    "ax2.set_xticks(indx)\n",
    "\n",
    "ax2.set_xticklabels(venues_5th_dis_likes_df_by_count.set_index(\"categories\").index)\n",
    "plt.yticks(fontsize=15)\n",
    "ax2.set_yticks(list(range(15)))\n",
    "ax2.set_title(\"the numbers of each category in Obour city fifth&2nd district\", fontsize=30)\n",
    "ax2.set_xlabel(\"categories\", fontsize=30)\n",
    "ax2.set_ylabel(\"number of category\", fontsize=30)\n",
    "ax2.bar(indx - barwidth/2, cates_nums_5th, barwidth, label=\"fifth district\")\n",
    "ax2.bar(np.array([0,4,6,8]) + barwidth/2, cates_nums_sec, barwidth,label=\"second district\")\n",
    "ax2.legend(prop={'size':25})"
   ]
  },
  {
   "cell_type": "markdown",
   "metadata": {},
   "source": [
    " <span style=\"color:blue; font-size:2em\">Results section where you discuss the results</span>\n",
    "<h4>\n",
    "    from the above plot we can tell\n",
    "    <ul>\n",
    "        <li>there are no Egyptian Restaurants in second district <h7>(this not real but the foursquare data is poor)</h7>\n",
    "        <li>number of Cafés in 2nd district is greater than 5th district\n",
    "    </ul>    \n",
    "</h4>"
   ]
  },
  {
   "cell_type": "code",
   "execution_count": 107,
   "metadata": {},
   "outputs": [
    {
     "data": {
      "text/plain": [
       "<matplotlib.legend.Legend at 0x24c48459fd0>"
      ]
     },
     "execution_count": 107,
     "metadata": {},
     "output_type": "execute_result"
    },
    {
     "data": {
      "image/png": "[encoded data removed]",
      "text/plain": [
       "<Figure size 2160x576 with 1 Axes>"
      ]
     },
     "metadata": {
      "needs_background": "light"
     },
     "output_type": "display_data"
    }
   ],
   "source": [
    "fig = plt.figure(figsize=(30,8),)\n",
    "ax2 = fig.add_subplot(111)\n",
    "barwidth=0.2\n",
    "\n",
    "plt.xticks(rotation=90, fontsize=20)\n",
    "ax2.set_xticks(indx)\n",
    "\n",
    "ax2.set_xticklabels(venues_5th_dis_likes_df_by_count.set_index(\"categories\").index)\n",
    "plt.yticks(fontsize=15)\n",
    "ax2.set_yticks(list(range(30)))\n",
    "ax2.set_title(\"the numbers of each category in Obour city fifth&2nd district\", fontsize=30)\n",
    "ax2.set_xlabel(\"categories\", fontsize=30)\n",
    "ax2.set_ylabel(\"number of category\", fontsize=30)\n",
    "ax2.bar(indx - barwidth/2, venues_5th_dis_likes_df_by_sum[\"likes\"], barwidth, label=\"fifth district\")\n",
    "ax2.bar(np.array([0,4,6,8]) + barwidth/2, venues_sec_dis_likes_df_by_sum[\"likes\"], barwidth,label=\"second district\")\n",
    "ax2.legend(prop={'size':25})"
   ]
  },
  {
   "cell_type": "markdown",
   "metadata": {},
   "source": [
    " <span style=\"color:blue; font-size:2em\">Results section where you discuss the results</span>\n",
    "<h4>\n",
    "    from the above plot we can tell\n",
    "    <ul>\n",
    "        <li>number of likes of Syrian Restaurants in 2nd district is equal to 5th district\n",
    "        <li>number of likes of Cafés in 2nd district is less than 5th district\n",
    "    </ul>    \n",
    "</h4>"
   ]
  },
  {
   "cell_type": "markdown",
   "metadata": {},
   "source": [
    " <span style=\"color:blue; font-size:2em\">Discussion section where you discuss any observations you noted and any recommendations you can make based on the results.</span>"
   ]
  },
  {
   "cell_type": "markdown",
   "metadata": {},
   "source": [
    "<h4><ul>based on the results<li> the fifth district has much more food areas and much more likes for food areas so it's a good place to build a restaurant.\n",
    "<li> the fifth district has more Cafes but less likes for Cafés.</ul>\n",
    "</h4>"
   ]
  },
  {
   "cell_type": "markdown",
   "metadata": {},
   "source": [
    " <span style=\"color:blue; font-size:2em\">Conclusion </span>"
   ]
  },
  {
   "cell_type": "markdown",
   "metadata": {},
   "source": [
    "<h4>based on results and observations the best choice is to build restaurant in fifth district</h4>"
   ]
  }
 ],
 "metadata": {
  "kernelspec": {
   "display_name": "Python 3",
   "language": "python",
   "name": "python3"
  },
  "language_info": {
   "codemirror_mode": {
    "name": "ipython",
    "version": 3
   },
   "file_extension": ".py",
   "mimetype": "text/x-python",
   "name": "python",
   "nbconvert_exporter": "python",
   "pygments_lexer": "ipython3",
   "version": "3.7.3"
  }
 },
 "nbformat": 4,
 "nbformat_minor": 2
}
